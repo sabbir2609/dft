{
 "cells": [
  {
   "cell_type": "code",
   "execution_count": null,
   "metadata": {},
   "outputs": [],
   "source": [
    "from ase.io import read, write\n",
    "structure = read('Mn0.2Zn0.8Fe2O4.cif')\n",
    "write('structure.pw.in', structure, format='espresso-in')"
   ]
  }
 ],
 "metadata": {
  "language_info": {
   "name": "python"
  }
 },
 "nbformat": 4,
 "nbformat_minor": 2
}
